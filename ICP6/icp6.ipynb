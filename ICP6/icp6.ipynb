{
 "cells": [
  {
   "cell_type": "code",
   "execution_count": 1,
   "metadata": {
    "colab": {
     "base_uri": "https://localhost:8080/",
     "height": 34
    },
    "colab_type": "code",
    "executionInfo": {
     "elapsed": 2379,
     "status": "ok",
     "timestamp": 1588359992437,
     "user": {
      "displayName": "Nikhitha Kolluri",
      "photoUrl": "",
      "userId": "00284492344101588652"
     },
     "user_tz": 300
    },
    "id": "lNNWGzDooAot",
    "outputId": "0742696a-87b1-46b2-b749-285ba5fc632f"
   },
   "outputs": [
    {
     "name": "stderr",
     "output_type": "stream",
     "text": [
      "Using TensorFlow backend.\n",
      "WARNING:root:Limited tf.compat.v2.summary API due to missing TensorBoard installation.\n",
      "WARNING:root:Limited tf.compat.v2.summary API due to missing TensorBoard installation.\n",
      "WARNING:root:Limited tf.compat.v2.summary API due to missing TensorBoard installation.\n",
      "WARNING:root:Limited tf.compat.v2.summary API due to missing TensorBoard installation.\n",
      "WARNING:root:Limited tf.compat.v2.summary API due to missing TensorBoard installation.\n",
      "WARNING:root:Limited tf.compat.v2.summary API due to missing TensorBoard installation.\n",
      "WARNING:root:Limited tf.summary API due to missing TensorBoard installation.\n"
     ]
    }
   ],
   "source": [
    "from keras.layers import Input, Dense\n",
    "from keras.models import Model"
   ]
  },
  {
   "cell_type": "code",
   "execution_count": 2,
   "metadata": {
    "colab": {},
    "colab_type": "code",
    "id": "wLc0ws8ZoL0x"
   },
   "outputs": [],
   "source": [
    "# this is the size of our encoded representations\n",
    "encoding_dim = 32  # 32 floats -> compression of factor 24.5, assuming the input is 784 floats"
   ]
  },
  {
   "cell_type": "code",
   "execution_count": 3,
   "metadata": {
    "colab": {},
    "colab_type": "code",
    "id": "_sHwX_mcoOlI"
   },
   "outputs": [],
   "source": [
    "# this is our input placeholder\n",
    "input_img = Input(shape=(784,))\n",
    "# \"encoded\" is the encoded representation of the input\n",
    "encoded = Dense(encoding_dim, activation='relu')(input_img)\n",
    "# \"decoded\" is the lossy reconstruction of the input\n",
    "decoded = Dense(784, activation='sigmoid')(encoded)\n",
    "# this model maps an input to its reconstruction\n",
    "autoencoder = Model(input_img, decoded)\n",
    "# this model maps an input to its encoded representation\n",
    "autoencoder.compile(optimizer='adadelta', loss='binary_crossentropy')"
   ]
  },
  {
   "cell_type": "code",
   "execution_count": 4,
   "metadata": {
    "colab": {},
    "colab_type": "code",
    "id": "7VRQIc2aoQ09"
   },
   "outputs": [],
   "source": [
    "from keras.datasets import mnist, fashion_mnist\n",
    "import numpy as np"
   ]
  },
  {
   "cell_type": "code",
   "execution_count": 5,
   "metadata": {
    "colab": {
     "base_uri": "https://localhost:8080/",
     "height": 151
    },
    "colab_type": "code",
    "executionInfo": {
     "elapsed": 4808,
     "status": "ok",
     "timestamp": 1588360005970,
     "user": {
      "displayName": "Nikhitha Kolluri",
      "photoUrl": "",
      "userId": "00284492344101588652"
     },
     "user_tz": 300
    },
    "id": "6GKHLBodoShq",
    "outputId": "299fb56e-4d9e-4058-8210-8a52b3642709"
   },
   "outputs": [
    {
     "name": "stdout",
     "output_type": "stream",
     "text": [
      "Downloading data from http://fashion-mnist.s3-website.eu-central-1.amazonaws.com/train-labels-idx1-ubyte.gz\n",
      "32768/29515 [=================================] - 0s 4us/step\n",
      "Downloading data from http://fashion-mnist.s3-website.eu-central-1.amazonaws.com/train-images-idx3-ubyte.gz\n",
      "26427392/26421880 [==============================] - 2s 0us/step\n",
      "Downloading data from http://fashion-mnist.s3-website.eu-central-1.amazonaws.com/t10k-labels-idx1-ubyte.gz\n",
      "8192/5148 [===============================================] - 0s 0us/step\n",
      "Downloading data from http://fashion-mnist.s3-website.eu-central-1.amazonaws.com/t10k-images-idx3-ubyte.gz\n",
      "4423680/4422102 [==============================] - 1s 0us/step\n"
     ]
    }
   ],
   "source": [
    "(x_train, y_train), (x_test, y_test) = fashion_mnist.load_data()\n",
    "x_train = x_train.astype('float32') / 255.\n",
    "x_test = x_test.astype('float32') / 255.\n",
    "x_train = x_train.reshape((len(x_train), np.prod(x_train.shape[1:])))\n",
    "x_test = x_test.reshape((len(x_test), np.prod(x_test.shape[1:])))"
   ]
  },
  {
   "cell_type": "code",
   "execution_count": 6,
   "metadata": {
    "colab": {
     "base_uri": "https://localhost:8080/",
     "height": 218
    },
    "colab_type": "code",
    "executionInfo": {
     "elapsed": 12699,
     "status": "ok",
     "timestamp": 1588360020870,
     "user": {
      "displayName": "Nikhitha Kolluri",
      "photoUrl": "",
      "userId": "00284492344101588652"
     },
     "user_tz": 300
    },
    "id": "PhNYyxTvoUUW",
    "outputId": "572c51e0-602a-4deb-85cc-fe128d26f3fb"
   },
   "outputs": [
    {
     "name": "stdout",
     "output_type": "stream",
     "text": [
      "Train on 60000 samples, validate on 10000 samples\n",
      "Epoch 1/5\n",
      "60000/60000 [==============================] - 3s 44us/step - loss: 0.5315 - val_loss: 0.4594\n",
      "Epoch 2/5\n",
      "60000/60000 [==============================] - 2s 36us/step - loss: 0.4265 - val_loss: 0.4058\n",
      "Epoch 3/5\n",
      "60000/60000 [==============================] - 2s 36us/step - loss: 0.3946 - val_loss: 0.3868\n",
      "Epoch 4/5\n",
      "60000/60000 [==============================] - 2s 34us/step - loss: 0.3778 - val_loss: 0.3722\n",
      "Epoch 5/5\n",
      "60000/60000 [==============================] - 2s 35us/step - loss: 0.3646 - val_loss: 0.3605\n"
     ]
    },
    {
     "data": {
      "text/plain": [
       "<keras.callbacks.callbacks.History at 0x1f564e96f88>"
      ]
     },
     "execution_count": 6,
     "metadata": {},
     "output_type": "execute_result"
    }
   ],
   "source": [
    "autoencoder.fit(x_train, x_train,\n",
    "                epochs=5,\n",
    "                batch_size=256,\n",
    "                shuffle=True,\n",
    "                validation_data=(x_test, x_test))"
   ]
  },
  {
   "cell_type": "markdown",
   "metadata": {
    "colab_type": "text",
    "id": "-5NneItzoz0K"
   },
   "source": [
    "1. Add one more hidden layer to autoencoder"
   ]
  },
  {
   "cell_type": "code",
   "execution_count": 7,
   "metadata": {
    "colab": {},
    "colab_type": "code",
    "id": "6sYADz4XoXPS"
   },
   "outputs": [],
   "source": [
    "# this is the size of our encoded representations\n",
    "encoding_dim = 32  # 32 floats -> compression of factor 24.5, assuming the input is 784 floats\n",
    "\n",
    "# this is our input placeholder\n",
    "input_img = Input(shape=(784,))\n",
    "# \"encoded\" is the encoded representation of the input\n",
    "encoded = Dense(encoding_dim, activation='relu')(input_img)\n",
    "#addining a hidden layer\n",
    "hiddenLayer=Dense(512,activation='relu')(encoded)\n",
    "# \"decoded\" is the lossy reconstruction of the input\n",
    "decoded = Dense(784, activation='sigmoid')(hiddenLayer)\n",
    "# this model maps an input to its reconstruction\n",
    "autoencoder1 = Model(input_img, decoded)\n",
    "# this model maps an input to its encoded representation\n",
    "autoencoder1.compile(optimizer='adadelta', loss='binary_crossentropy',metrics=['accuracy'])\n",
    "from keras.datasets import fashion_mnist\n",
    "import numpy as np\n",
    "(x_train, _), (x_test, _) = fashion_mnist.load_data()\n",
    "x_train = x_train.astype('float32') / 255.\n",
    "x_test = x_test.astype('float32') / 255.\n",
    "x_train = x_train.reshape((len(x_train), np.prod(x_train.shape[1:])))\n",
    "x_test = x_test.reshape((len(x_test), np.prod(x_test.shape[1:])))"
   ]
  },
  {
   "cell_type": "code",
   "execution_count": 8,
   "metadata": {
    "colab": {
     "base_uri": "https://localhost:8080/",
     "height": 218
    },
    "colab_type": "code",
    "executionInfo": {
     "elapsed": 33875,
     "status": "ok",
     "timestamp": 1588360556390,
     "user": {
      "displayName": "Nikhitha Kolluri",
      "photoUrl": "",
      "userId": "00284492344101588652"
     },
     "user_tz": 300
    },
    "id": "lqTcnLlqppzF",
    "outputId": "95923f01-09e1-41fe-a54d-cdae9672e3d1"
   },
   "outputs": [
    {
     "name": "stdout",
     "output_type": "stream",
     "text": [
      "Train on 60000 samples, validate on 10000 samples\n",
      "Epoch 1/5\n",
      "60000/60000 [==============================] - 7s 111us/step - loss: 0.4993 - accuracy: 0.4592 - val_loss: 0.4114 - val_accuracy: 0.4878\n",
      "Epoch 2/5\n",
      "60000/60000 [==============================] - 7s 108us/step - loss: 0.3911 - accuracy: 0.4913 - val_loss: 0.3783 - val_accuracy: 0.4910\n",
      "Epoch 3/5\n",
      "60000/60000 [==============================] - 7s 109us/step - loss: 0.3636 - accuracy: 0.4962 - val_loss: 0.3535 - val_accuracy: 0.4968\n",
      "Epoch 4/5\n",
      "60000/60000 [==============================] - 7s 110us/step - loss: 0.3430 - accuracy: 0.5001 - val_loss: 0.3411 - val_accuracy: 0.5010\n",
      "Epoch 5/5\n",
      "60000/60000 [==============================] - 7s 111us/step - loss: 0.3320 - accuracy: 0.5020 - val_loss: 0.3366 - val_accuracy: 0.5025\n"
     ]
    },
    {
     "data": {
      "text/plain": [
       "<keras.callbacks.callbacks.History at 0x7f1d0b39d7f0>"
      ]
     },
     "execution_count": 8,
     "metadata": {
      "tags": []
     },
     "output_type": "execute_result"
    }
   ],
   "source": [
    "autoencoder1.fit(x_train, x_train,\n",
    "                epochs=5,\n",
    "                batch_size=256,\n",
    "                shuffle=True,\n",
    "                validation_data=(x_test, x_test))"
   ]
  },
  {
   "cell_type": "markdown",
   "metadata": {
    "colab_type": "text",
    "id": "14qSwIwfqo4I"
   },
   "source": [
    "2. visualize the inputand reconstructed representationof the autoencoder using Matplotlib\n"
   ]
  },
  {
   "cell_type": "code",
   "execution_count": 8,
   "metadata": {
    "colab": {},
    "colab_type": "code",
    "id": "nOLUBAOrqquN"
   },
   "outputs": [],
   "source": [
    "prediction = autoencoder1.predict(x_test[[3],:])\n",
    "#prediction"
   ]
  },
  {
   "cell_type": "code",
   "execution_count": 9,
   "metadata": {
    "colab": {
     "base_uri": "https://localhost:8080/",
     "height": 265
    },
    "colab_type": "code",
    "executionInfo": {
     "elapsed": 384,
     "status": "ok",
     "timestamp": 1588362065339,
     "user": {
      "displayName": "Nikhitha Kolluri",
      "photoUrl": "",
      "userId": "00284492344101588652"
     },
     "user_tz": 300
    },
    "id": "pOSs8Pgfq7Hy",
    "outputId": "25842778-dead-40c1-f22a-4a5f42d5171f"
   },
   "outputs": [
    {
     "data": {
      "text/plain": [
       "<Figure size 640x480 with 1 Axes>"
      ]
     },
     "metadata": {},
     "output_type": "display_data"
    }
   ],
   "source": [
    "from matplotlib import pyplot as plt\n",
    "plt.imshow(x_test[3].reshape(28,28))\n",
    "plt.show()"
   ]
  },
  {
   "cell_type": "code",
   "execution_count": 10,
   "metadata": {
    "colab": {
     "base_uri": "https://localhost:8080/",
     "height": 265
    },
    "colab_type": "code",
    "executionInfo": {
     "elapsed": 306,
     "status": "ok",
     "timestamp": 1588362069238,
     "user": {
      "displayName": "Nikhitha Kolluri",
      "photoUrl": "",
      "userId": "00284492344101588652"
     },
     "user_tz": 300
    },
    "id": "4bRQ2EiCrBbp",
    "outputId": "dc44c4ce-f1a6-46f2-9ea1-0a8eb5326947"
   },
   "outputs": [
    {
     "data": {
      "image/png": "[encoded data removed]",
      "text/plain": [
       "<Figure size 432x288 with 1 Axes>"
      ]
     },
     "metadata": {
      "needs_background": "light"
     },
     "output_type": "display_data"
    }
   ],
   "source": [
    "from matplotlib import pyplot as plt\n",
    "plt.imshow(prediction[0].reshape(28,28))\n",
    "plt.show()"
   ]
  },
  {
   "cell_type": "markdown",
   "metadata": {
    "colab_type": "text",
    "id": "U_tTxSPMrGVs"
   },
   "source": [
    "3. visualize the input, noisy inputand reconstructed representation(denosed output)of the Denosing_Autoencoder using Matplotlib\n"
   ]
  },
  {
   "cell_type": "code",
   "execution_count": 11,
   "metadata": {
    "colab": {},
    "colab_type": "code",
    "id": "f67o4xVRrR0I"
   },
   "outputs": [],
   "source": [
    "#Adding Noies\n",
    "noise_factor = 0.5\n",
    "x_train_noisy = x_train + noise_factor * np.random.normal(loc=0.0, scale=1.0, size=x_train.shape)\n",
    "x_test_noisy = x_test + noise_factor * np.random.normal(loc=0.0, scale=1.0, size=x_test.shape)\n"
   ]
  },
  {
   "cell_type": "code",
   "execution_count": 12,
   "metadata": {
    "colab": {
     "base_uri": "https://localhost:8080/",
     "height": 370
    },
    "colab_type": "code",
    "executionInfo": {
     "elapsed": 75166,
     "status": "ok",
     "timestamp": 1588361034615,
     "user": {
      "displayName": "Nikhitha Kolluri",
      "photoUrl": "",
      "userId": "00284492344101588652"
     },
     "user_tz": 300
    },
    "id": "RXemgtzfrXWx",
    "outputId": "5f8e4f0a-fc05-485f-bac4-af246712ad94"
   },
   "outputs": [
    {
     "name": "stdout",
     "output_type": "stream",
     "text": [
      "Train on 60000 samples, validate on 10000 samples\n",
      "Epoch 1/10\n",
      "60000/60000 [==============================] - 6s 98us/step - loss: 0.4928 - accuracy: 0.4620 - val_loss: 0.4072 - val_accuracy: 1.2755e-07\n",
      "Epoch 2/10\n",
      "60000/60000 [==============================] - 6s 96us/step - loss: 0.3934 - accuracy: 0.4908 - val_loss: 0.3762 - val_accuracy: 1.2755e-07\n",
      "Epoch 3/10\n",
      "60000/60000 [==============================] - 6s 96us/step - loss: 0.3705 - accuracy: 0.4951 - val_loss: 0.3521 - val_accuracy: 1.2755e-07\n",
      "Epoch 4/10\n",
      "60000/60000 [==============================] - 6s 94us/step - loss: 0.3505 - accuracy: 0.4992 - val_loss: 0.3331 - val_accuracy: 1.2755e-07\n",
      "Epoch 5/10\n",
      "60000/60000 [==============================] - 6s 97us/step - loss: 0.3382 - accuracy: 0.5011 - val_loss: 0.3220 - val_accuracy: 0.0000e+00\n",
      "Epoch 6/10\n",
      "60000/60000 [==============================] - 6s 94us/step - loss: 0.3321 - accuracy: 0.5019 - val_loss: 0.3156 - val_accuracy: 0.0000e+00\n",
      "Epoch 7/10\n",
      "60000/60000 [==============================] - 6s 97us/step - loss: 0.3286 - accuracy: 0.5023 - val_loss: 0.3121 - val_accuracy: 0.0000e+00\n",
      "Epoch 8/10\n",
      "60000/60000 [==============================] - 6s 96us/step - loss: 0.3256 - accuracy: 0.5027 - val_loss: 0.3085 - val_accuracy: 0.0000e+00\n",
      "Epoch 9/10\n",
      "60000/60000 [==============================] - 6s 92us/step - loss: 0.3237 - accuracy: 0.5030 - val_loss: 0.3080 - val_accuracy: 0.0000e+00\n",
      "Epoch 10/10\n",
      "60000/60000 [==============================] - 6s 97us/step - loss: 0.3216 - accuracy: 0.5033 - val_loss: 0.3090 - val_accuracy: 1.2755e-07\n"
     ]
    }
   ],
   "source": [
    "history=autoencoder1.fit(x_train_noisy, x_train,\n",
    "                epochs=10,\n",
    "                batch_size=256,\n",
    "                shuffle=True,\n",
    "                validation_data=(x_test_noisy, x_test_noisy))"
   ]
  },
  {
   "cell_type": "code",
   "execution_count": 13,
   "metadata": {
    "colab": {
     "base_uri": "https://localhost:8080/",
     "height": 265
    },
    "colab_type": "code",
    "executionInfo": {
     "elapsed": 387,
     "status": "ok",
     "timestamp": 1588361943986,
     "user": {
      "displayName": "Nikhitha Kolluri",
      "photoUrl": "",
      "userId": "00284492344101588652"
     },
     "user_tz": 300
    },
    "id": "hePmlHNnrt7F",
    "outputId": "3e200505-1781-4abb-e8da-5640c3223ec7"
   },
   "outputs": [
    {
     "data": {
      "image/png": "[encoded data removed]",
      "text/plain": [
       "<Figure size 432x288 with 1 Axes>"
      ]
     },
     "metadata": {
      "needs_background": "light"
     },
     "output_type": "display_data"
    }
   ],
   "source": [
    "from matplotlib import pyplot as plt\n",
    "plt.imshow(x_train_noisy[2].reshape(28,28))\n",
    "plt.show()"
   ]
  },
  {
   "cell_type": "code",
   "execution_count": 14,
   "metadata": {
    "colab": {},
    "colab_type": "code",
    "id": "B0WFDiXorugJ"
   },
   "outputs": [],
   "source": [
    "prediction1 = autoencoder1.predict(x_train_noisy[[2],:])\n",
    "#prediction1[0]"
   ]
  },
  {
   "cell_type": "code",
   "execution_count": 41,
   "metadata": {
    "colab": {
     "base_uri": "https://localhost:8080/",
     "height": 265
    },
    "colab_type": "code",
    "executionInfo": {
     "elapsed": 377,
     "status": "ok",
     "timestamp": 1588361895695,
     "user": {
      "displayName": "Nikhitha Kolluri",
      "photoUrl": "",
      "userId": "00284492344101588652"
     },
     "user_tz": 300
    },
    "id": "59t38F5Cr0Se",
    "outputId": "d1dcfab6-8507-4d00-ab4c-8606fdc479b5"
   },
   "outputs": [
    {
     "data": {
      "image/png": "[encoded data removed]",
      "text/plain": [
       "<Figure size 432x288 with 1 Axes>"
      ]
     },
     "metadata": {
      "needs_background": "light",
      "tags": []
     },
     "output_type": "display_data"
    }
   ],
   "source": [
    "from matplotlib import pyplot as plt\n",
    "plt.imshow(prediction1[0].reshape(28,28))\n",
    "plt.show()"
   ]
  },
  {
   "cell_type": "markdown",
   "metadata": {
    "colab_type": "text",
    "id": "53vUZHLpr68z"
   },
   "source": [
    "4. plot lossand accuracy using the history object"
   ]
  },
  {
   "cell_type": "code",
   "execution_count": 20,
   "metadata": {
    "colab": {
     "base_uri": "https://localhost:8080/",
     "height": 295
    },
    "colab_type": "code",
    "executionInfo": {
     "elapsed": 455,
     "status": "ok",
     "timestamp": 1588361039085,
     "user": {
      "displayName": "Nikhitha Kolluri",
      "photoUrl": "",
      "userId": "00284492344101588652"
     },
     "user_tz": 300
    },
    "id": "hfQinTbkr6Pf",
    "outputId": "5c876963-08fe-488d-fb5e-ca0b8b40d4ea"
   },
   "outputs": [
    {
     "data": {
      "image/png": "[encoded data removed]",
      "text/plain": [
       "<Figure size 432x288 with 1 Axes>"
      ]
     },
     "metadata": {
      "needs_background": "light",
      "tags": []
     },
     "output_type": "display_data"
    }
   ],
   "source": [
    "import matplotlib.pyplot as plt\n",
    "plt.plot(history.history['accuracy'])\n",
    "plt.plot(history.history['loss'])\n",
    "plt.title('model accuracy vs loss')\n",
    "plt.xlabel('epoch')\n",
    "plt.legend(['accuray','loss'], loc='upper left')\n",
    "plt.show()"
   ]
  },
  {
   "cell_type": "markdown",
   "metadata": {
    "colab_type": "text",
    "id": "YSNJfhAtu-gd"
   },
   "source": [
    "train[0:]\n",
    "(6000,28,28,3)"
   ]
  }
 ],
 "metadata": {
  "colab": {
   "authorship_tag": "ABX9TyNbk1ebUcs0vmpB27201eJd",
   "mount_file_id": "1xq0scna3X5WbsLDoLoCC7HOrGB-IX_OL",
   "name": "AutoEncoderDL_ICP6.ipynb",
   "provenance": []
  },
  "kernelspec": {
   "display_name": "Python 3",
   "language": "python",
   "name": "python3"
  },
  "language_info": {
   "codemirror_mode": {
    "name": "ipython",
    "version": 3
   },
   "file_extension": ".py",
   "mimetype": "text/x-python",
   "name": "python",
   "nbconvert_exporter": "python",
   "pygments_lexer": "ipython3",
   "version": "3.7.4"
  }
 },
 "nbformat": 4,
 "nbformat_minor": 1
}
