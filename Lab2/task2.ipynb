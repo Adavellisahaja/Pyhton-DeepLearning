{
  "nbformat": 4,
  "nbformat_minor": 0,
  "metadata": {
    "colab": {
      "name": "task2.ipynb",
      "provenance": []
    },
    "kernelspec": {
      "name": "python3",
      "display_name": "Python 3"
    }
  },
  "cells": [
    {
      "cell_type": "code",
      "metadata": {
        "id": "L1-VR5Jf9EFa",
        "colab_type": "code",
        "colab": {}
      },
      "source": [
        "import pandas as pd\n",
        "import matplotlib.pyplot as plt\n",
        "from keras.models import Sequential\n",
        "from keras.layers import Dense\n",
        "from keras import optimizers\n",
        "from keras.datasets import mnist\n",
        "from keras.utils import np_utils\n",
        "from keras.callbacks import TensorBoard\n",
        "import tensorflow as tf"
      ],
      "execution_count": 0,
      "outputs": []
    },
    {
      "cell_type": "code",
      "metadata": {
        "id": "Y1TlNco39XSi",
        "colab_type": "code",
        "outputId": "b21c3f65-5d33-4e7b-c32e-49e621604e67",
        "colab": {
          "base_uri": "https://localhost:8080/",
          "height": 138
        }
      },
      "source": [
        "from sklearn.model_selection import train_test_split\n",
        "import numpy as np\n",
        "batch_size = 50\n",
        "nb_classes = 10\n",
        "nb_epoch = 10\n",
        "\n",
        "#loading the dataset(mnist)\n",
        "dataset = pd.read_csv(\"/content/drive/My Drive/Colab Notebooks/lab2/heart.csv\").values\n",
        "\n",
        "X_train, X_test, Y_train, Y_test = train_test_split(dataset[:,0:13], dataset[:,13],\n",
        "                                                    test_size=0.25, random_state=87)\n",
        "#(X_train, y_train), (X_test, y_test) = mnist.load_data()\n",
        "# X_train = X_train.reshape(100, 784)\n",
        "# X_test = X_test.reshape(5000, 784)\n",
        "print(X_train)\n",
        "X_train = X_train.astype(np.float)\n",
        "X_test = X_test.astype(np.float)\n",
        "X_train /= 255\n",
        "X_test /= 255\n",
        "Y_Train = np_utils.to_categorical(Y_train, nb_classes)\n",
        "Y_Test = np_utils.to_categorical(Y_test, nb_classes)"
      ],
      "execution_count": 16,
      "outputs": [
        {
          "output_type": "stream",
          "text": [
            "[[58.  1.  0. ...  2.  0.  3.]\n",
            " [60.  0.  3. ...  2.  0.  2.]\n",
            " [62.  0.  0. ...  1.  3.  2.]\n",
            " ...\n",
            " [43.  1.  0. ...  1.  4.  3.]\n",
            " [67.  0.  0. ...  2.  2.  2.]\n",
            " [54.  1.  0. ...  1.  1.  3.]]\n"
          ],
          "name": "stdout"
        }
      ]
    },
    {
      "cell_type": "code",
      "metadata": {
        "id": "2az843k7_c_D",
        "colab_type": "code",
        "colab": {
          "base_uri": "https://localhost:8080/",
          "height": 245
        },
        "outputId": "1475c597-4206-4e6e-8776-78f5011dcaf6"
      },
      "source": [
        "#performing Logistic_regression\n",
        "model = Sequential()\n",
        "model.add(Dense(output_dim=10, input_shape=(13,), init='normal', activation='softmax'))\n",
        "model.compile(optimizer='RMSprop', loss='categorical_crossentropy', metrics=['accuracy'])\n",
        "model.summary()"
      ],
      "execution_count": 17,
      "outputs": [
        {
          "output_type": "stream",
          "text": [
            "/usr/local/lib/python3.6/dist-packages/ipykernel_launcher.py:2: UserWarning: Update your `Dense` call to the Keras 2 API: `Dense(input_shape=(13,), activation=\"softmax\", units=10, kernel_initializer=\"normal\")`\n",
            "  \n"
          ],
          "name": "stderr"
        },
        {
          "output_type": "stream",
          "text": [
            "Model: \"sequential_1\"\n",
            "_________________________________________________________________\n",
            "Layer (type)                 Output Shape              Param #   \n",
            "=================================================================\n",
            "dense_1 (Dense)              (None, 10)                140       \n",
            "=================================================================\n",
            "Total params: 140\n",
            "Trainable params: 140\n",
            "Non-trainable params: 0\n",
            "_________________________________________________________________\n"
          ],
          "name": "stdout"
        }
      ]
    },
    {
      "cell_type": "code",
      "metadata": {
        "id": "YIVKiyBQ_f8-",
        "colab_type": "code",
        "colab": {
          "base_uri": "https://localhost:8080/",
          "height": 398
        },
        "outputId": "ddc9ec59-e795-4cfe-ba4e-c9662b75c5e2"
      },
      "source": [
        "#tensorboard graph genertion\n",
        "tensorboard = TensorBoard(log_dir=\"logslo1/{}\",histogram_freq=0, write_graph=True, write_images=True)\n",
        "history=model.fit(X_train, Y_Train, nb_epoch=nb_epoch, batch_size=batch_size,callbacks=[tensorboard])"
      ],
      "execution_count": 18,
      "outputs": [
        {
          "output_type": "stream",
          "text": [
            "/usr/local/lib/python3.6/dist-packages/ipykernel_launcher.py:2: UserWarning: The `nb_epoch` argument in `fit` has been renamed `epochs`.\n",
            "  \n"
          ],
          "name": "stderr"
        },
        {
          "output_type": "stream",
          "text": [
            "Epoch 1/10\n",
            "227/227 [==============================] - 0s 1ms/step - loss: 2.2681 - accuracy: 0.1454\n",
            "Epoch 2/10\n",
            "227/227 [==============================] - 0s 39us/step - loss: 2.2239 - accuracy: 0.5022\n",
            "Epoch 3/10\n",
            "227/227 [==============================] - 0s 44us/step - loss: 2.1920 - accuracy: 0.5066\n",
            "Epoch 4/10\n",
            "227/227 [==============================] - 0s 42us/step - loss: 2.1636 - accuracy: 0.5066\n",
            "Epoch 5/10\n",
            "227/227 [==============================] - 0s 50us/step - loss: 2.1369 - accuracy: 0.5066\n",
            "Epoch 6/10\n",
            "227/227 [==============================] - 0s 49us/step - loss: 2.1113 - accuracy: 0.5066\n",
            "Epoch 7/10\n",
            "227/227 [==============================] - 0s 38us/step - loss: 2.0864 - accuracy: 0.5066\n",
            "Epoch 8/10\n",
            "227/227 [==============================] - 0s 41us/step - loss: 2.0619 - accuracy: 0.5066\n",
            "Epoch 9/10\n",
            "227/227 [==============================] - 0s 37us/step - loss: 2.0377 - accuracy: 0.5066\n",
            "Epoch 10/10\n",
            "227/227 [==============================] - 0s 44us/step - loss: 2.0138 - accuracy: 0.5066\n"
          ],
          "name": "stdout"
        }
      ]
    },
    {
      "cell_type": "code",
      "metadata": {
        "id": "Cju3x8Zw_ii7",
        "colab_type": "code",
        "colab": {
          "base_uri": "https://localhost:8080/",
          "height": 51
        },
        "outputId": "d78e60e4-6d12-4c29-94eb-97ad7a621556"
      },
      "source": [
        "#predicting the accuracy of the model\n",
        "score = model.evaluate(X_test, Y_Test, verbose=1)\n",
        "print('Loss: %.2f, Accuracy: %.2f' % (score[0], score[1]))\n"
      ],
      "execution_count": 19,
      "outputs": [
        {
          "output_type": "stream",
          "text": [
            "76/76 [==============================] - 0s 512us/step\n",
            "Loss: 1.99, Accuracy: 0.64\n"
          ],
          "name": "stdout"
        }
      ]
    },
    {
      "cell_type": "code",
      "metadata": {
        "id": "IinRHGTx_mQ6",
        "colab_type": "code",
        "colab": {
          "base_uri": "https://localhost:8080/",
          "height": 295
        },
        "outputId": "1299c7bc-f468-44df-ddc0-fc23c63f0eb7"
      },
      "source": [
        "#plotting the loss\n",
        "plt.plot(history.history['loss'])\n",
        "# plt.plot(history.history['test_loss'])\n",
        "plt.title('model loss')\n",
        "plt.ylabel('loss')\n",
        "plt.xlabel('epoch')\n",
        "plt.legend(['train', 'test'], loc='upper left')\n",
        "plt.show()"
      ],
      "execution_count": 20,
      "outputs": [
        {
          "output_type": "display_data",
          "data": {
            "image/png": "[encoded data removed]",
            "text/plain": [
              "<Figure size 432x288 with 1 Axes>"
            ]
          },
          "metadata": {
            "tags": [],
            "needs_background": "light"
          }
        }
      ]
    }
  ]
}