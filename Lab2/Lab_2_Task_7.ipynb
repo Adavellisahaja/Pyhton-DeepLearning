{
  "nbformat": 4,
  "nbformat_minor": 0,
  "metadata": {
    "colab": {
      "name": "Lab_2_Task_7.ipynb",
      "provenance": []
    },
    "kernelspec": {
      "name": "python3",
      "display_name": "Python 3"
    }
  },
  "cells": [
    {
      "cell_type": "code",
      "metadata": {
        "id": "qnYO-51ksR4C",
        "colab_type": "code",
        "colab": {}
      },
      "source": [
        "from keras.datasets import mnist\n",
        "from keras.layers import Input, Dense\n",
        "from keras.models import Model\n",
        "import matplotlib.pyplot as plt\n",
        "import numpy as np\n",
        "from PIL import Image\n",
        "\n",
        "(x_train, y_train), (x_test, y_test) = mnist.load_data()"
      ],
      "execution_count": 0,
      "outputs": []
    },
    {
      "cell_type": "code",
      "metadata": {
        "id": "7fvCAfdZv647",
        "colab_type": "code",
        "outputId": "1dd66c44-12c6-43eb-99dd-7e5fefedcf31",
        "colab": {
          "base_uri": "https://localhost:8080/",
          "height": 316
        }
      },
      "source": [
        "print (x_train.shape)\n",
        "print (y_train.shape)\n",
        "\n",
        "plt.imshow(x_train[0])"
      ],
      "execution_count": 0,
      "outputs": [
        {
          "output_type": "stream",
          "text": [
            "(60000, 28, 28)\n",
            "(60000,)\n"
          ],
          "name": "stdout"
        },
        {
          "output_type": "execute_result",
          "data": {
            "text/plain": [
              "<matplotlib.image.AxesImage at 0x7fa0bd426eb8>"
            ]
          },
          "metadata": {
            "tags": []
          },
          "execution_count": 7
        },
        {
          "output_type": "display_data",
          "data": {
            "image/png": "[encoded data removed]",
            "text/plain": [
              "<Figure size 432x288 with 1 Axes>"
            ]
          },
          "metadata": {
            "tags": [],
            "needs_background": "light"
          }
        }
      ]
    },
    {
      "cell_type": "code",
      "metadata": {
        "id": "wzkmMQAGw-sp",
        "colab_type": "code",
        "outputId": "fe3c94e4-6b65-4dc9-f66c-e9b33d585fb0",
        "colab": {
          "base_uri": "https://localhost:8080/",
          "height": 391
        }
      },
      "source": [
        "\n",
        "# this is the size of our encoded representations\n",
        "encoding_dim = 32  # 32 floats -> compression of factor 24.5, assuming the input is 784 floats\n",
        "\n",
        "# this is our input placeholder\n",
        "input_img = Input(shape=(784,))\n",
        "# \"encoded\" is the encoded representation of the input\n",
        "encoded = Dense(encoding_dim, activation='relu')(input_img)\n",
        "#hidden layer added\n",
        "encoded = Dense(500, activation='relu')(encoded)\n",
        "encoded = Dense(500, activation='relu')(encoded)\n",
        "encoded = Dense(500, activation='relu')(encoded)\n",
        "# \"decoded\" is the lossy reconstruction of the input\n",
        "decoded = Dense(784, activation='sigmoid')(encoded)\n",
        "# this model maps an input to its reconstruction\n",
        "autoencoder = Model(input_img, decoded)\n",
        "# this model maps an input to its encoded representation\n",
        "autoencoder.compile(optimizer='adadelta', loss='binary_crossentropy')\n",
        "\n",
        "x_train = x_train.astype('float32') / 255.\n",
        "x_test = x_test.astype('float32') / 255.\n",
        "x_train = x_train.reshape((len(x_train), np.prod(x_train.shape[1:])))\n",
        "x_test = x_test.reshape((len(x_test), np.prod(x_test.shape[1:])))\n",
        "\n",
        "# plt.imshow(x_train[0]*255)\n",
        "autoencoder.fit(x_train, x_train,\n",
        "                epochs=10,\n",
        "                batch_size=256,\n",
        "                shuffle=True,\n",
        "                validation_data=(x_test, x_test))\n"
      ],
      "execution_count": 0,
      "outputs": [
        {
          "output_type": "stream",
          "text": [
            "Train on 60000 samples, validate on 10000 samples\n",
            "Epoch 1/10\n",
            "60000/60000 [==============================] - 12s 192us/step - loss: 0.3229 - val_loss: 0.4708\n",
            "Epoch 2/10\n",
            "60000/60000 [==============================] - 11s 182us/step - loss: 0.2462 - val_loss: 0.3372\n",
            "Epoch 3/10\n",
            "60000/60000 [==============================] - 11s 190us/step - loss: 0.2181 - val_loss: 0.2498\n",
            "Epoch 4/10\n",
            "60000/60000 [==============================] - 12s 192us/step - loss: 0.1934 - val_loss: 0.1791\n",
            "Epoch 5/10\n",
            "60000/60000 [==============================] - 11s 191us/step - loss: 0.1778 - val_loss: 0.1354\n",
            "Epoch 6/10\n",
            "60000/60000 [==============================] - 12s 192us/step - loss: 0.1673 - val_loss: 0.1141\n",
            "Epoch 7/10\n",
            "60000/60000 [==============================] - 11s 188us/step - loss: 0.1587 - val_loss: 0.0810\n",
            "Epoch 8/10\n",
            "60000/60000 [==============================] - 12s 194us/step - loss: 0.1522 - val_loss: 0.0524\n",
            "Epoch 9/10\n",
            "60000/60000 [==============================] - 11s 192us/step - loss: 0.1469 - val_loss: 0.0450\n",
            "Epoch 10/10\n",
            "60000/60000 [==============================] - 12s 192us/step - loss: 0.1420 - val_loss: 0.0322\n"
          ],
          "name": "stdout"
        },
        {
          "output_type": "execute_result",
          "data": {
            "text/plain": [
              "<keras.callbacks.callbacks.History at 0x7fa0b3e1a710>"
            ]
          },
          "metadata": {
            "tags": []
          },
          "execution_count": 38
        }
      ]
    },
    {
      "cell_type": "code",
      "metadata": {
        "id": "put67kMMxVCb",
        "colab_type": "code",
        "outputId": "fabdff26-27a3-4034-991b-8aa2a04e47e3",
        "colab": {
          "base_uri": "https://localhost:8080/",
          "height": 513
        }
      },
      "source": [
        "#Task 2\n",
        "for i in range(1098,1099):\n",
        "  (x_train, y_train), (x_test, y_test) = mnist.load_data()\n",
        "  plt.imshow(x_test[i].reshape(28,28),'gray')\n",
        "  #plotting original image\n",
        "  plt.show()\n",
        "  x_test = x_test.astype('float32') / 255.\n",
        "  #getting ready input data\n",
        "  x_test = x_test.reshape((len(x_test), np.prod(x_test.shape[1:])))\n",
        "  inp= np.expand_dims(x_test[i],axis=0)\n",
        "  # predicticting using auto encoder\n",
        "  ans = autoencoder.predict(inp)\n",
        "  #plotting output image\n",
        "  plt.imshow(ans.reshape(28,28),'gray')\n",
        "  plt.show()"
      ],
      "execution_count": 0,
      "outputs": [
        {
          "output_type": "display_data",
          "data": {
            "image/png": "[encoded data removed]",
            "text/plain": [
              "<Figure size 432x288 with 1 Axes>"
            ]
          },
          "metadata": {
            "tags": [],
            "needs_background": "light"
          }
        },
        {
          "output_type": "display_data",
          "data": {
            "image/png": "[encoded data removed]",
            "text/plain": [
              "<Figure size 432x288 with 1 Axes>"
            ]
          },
          "metadata": {
            "tags": [],
            "needs_background": "light"
          }
        }
      ]
    },
    {
      "cell_type": "code",
      "metadata": {
        "id": "aISMMa2Ay8Qe",
        "colab_type": "code",
        "outputId": "90d2b554-9649-4408-8515-f83c851c3af2",
        "colab": {
          "base_uri": "https://localhost:8080/",
          "height": 295
        }
      },
      "source": [
        "history = autoencoder.history\n",
        "\n",
        "\n",
        "plt.plot(history.history['val_loss'])\n",
        "plt.plot(history.history['loss'])\n",
        "plt.title('model loss')\n",
        "plt.ylabel('loss')\n",
        "plt.xlabel('epoch')\n",
        "plt.legend(['train', 'validation'], loc='upper left')\n",
        "plt.show()"
      ],
      "execution_count": 0,
      "outputs": [
        {
          "output_type": "display_data",
          "data": {
            "image/png": "[encoded data removed]",
            "text/plain": [
              "<Figure size 432x288 with 1 Axes>"
            ]
          },
          "metadata": {
            "tags": [],
            "needs_background": "light"
          }
        }
      ]
    }
  ]
}