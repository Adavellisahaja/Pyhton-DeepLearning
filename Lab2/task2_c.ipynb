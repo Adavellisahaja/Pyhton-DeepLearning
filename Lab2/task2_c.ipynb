{
  "nbformat": 4,
  "nbformat_minor": 0,
  "metadata": {
    "colab": {
      "name": "task2-c.ipynb",
      "provenance": []
    },
    "kernelspec": {
      "name": "python3",
      "display_name": "Python 3"
    }
  },
  "cells": [
    {
      "cell_type": "code",
      "metadata": {
        "id": "KoZ5QW5JQVcG",
        "colab_type": "code",
        "colab": {}
      },
      "source": [
        "import pandas as pd\n",
        "import matplotlib.pyplot as plt\n",
        "from keras.models import Sequential\n",
        "from keras.layers import Dense\n",
        "from keras import optimizers\n",
        "from keras.datasets import mnist\n",
        "from keras.utils import np_utils\n",
        "from keras.callbacks import TensorBoard\n",
        "import tensorflow as tf\n",
        "\n",
        "#setting batch and epochs\n",
        "from sklearn.model_selection import train_test_split\n",
        "\n",
        "batch_size = 128\n",
        "nb_classes = 10\n",
        "nb_epoch = 5"
      ],
      "execution_count": 0,
      "outputs": []
    },
    {
      "cell_type": "code",
      "metadata": {
        "id": "HdVU65kuQpQt",
        "colab_type": "code",
        "colab": {}
      },
      "source": [
        "#loading the dataset(mnist)\n",
        "dataset = pd.read_csv(\"/content/drive/My Drive/Colab Notebooks/lab2/heart.csv\").values\n",
        " #print(dataset)\n",
        "import numpy as np\n",
        "X_train, X_test, Y_train, Y_test = train_test_split(dataset[:,0:13], dataset[:,13],\n",
        "                                                    test_size=0.25, random_state=87)\n",
        "#(X_train, y_train), (X_test, y_test) = mnist.load_data()\n",
        "# X_train = X_train.reshape(100, 784)\n",
        "# X_test = X_test.reshape(5000, 784)\n",
        "# print(X_train)\n",
        "X_train = X_train.astype(np.float)\n",
        "X_test = X_test.astype(np.float)\n",
        "X_train /= 255\n",
        "X_test /= 255\n",
        "Y_Train = np_utils.to_categorical(Y_train, nb_classes)\n",
        "Y_Test = np_utils.to_categorical(Y_test, nb_classes)\n",
        "\n",
        "# X_train = X_train.astype('float32') / 255.\n",
        "# X_test = X_test.astype('float32') / 255.\n",
        "# X_train = X_train.reshape((len(X_train), np.prod(X_train.shape[1:])))\n",
        "# X_test = X_test.reshape((len(X_test), np.prod(X_test.shape[1:])))\n"
      ],
      "execution_count": 0,
      "outputs": []
    },
    {
      "cell_type": "code",
      "metadata": {
        "id": "7OlqTvppF0ZI",
        "colab_type": "code",
        "colab": {
          "base_uri": "https://localhost:8080/",
          "height": 245
        },
        "outputId": "cb46c71d-b01e-47a1-af1b-0422fb9fc33c"
      },
      "source": [
        "#performing Logistic_regression\n",
        "model = Sequential()\n",
        "model.add(Dense(output_dim=10, input_shape=(13,), init='normal', activation='softmax'))\n",
        "model.compile(optimizer='SGD', loss='categorical_crossentropy', metrics=['accuracy'])\n",
        "model.summary()"
      ],
      "execution_count": 10,
      "outputs": [
        {
          "output_type": "stream",
          "text": [
            "/usr/local/lib/python3.6/dist-packages/ipykernel_launcher.py:2: UserWarning: Update your `Dense` call to the Keras 2 API: `Dense(input_shape=(13,), activation=\"softmax\", units=10, kernel_initializer=\"normal\")`\n",
            "  \n"
          ],
          "name": "stderr"
        },
        {
          "output_type": "stream",
          "text": [
            "Model: \"sequential_1\"\n",
            "_________________________________________________________________\n",
            "Layer (type)                 Output Shape              Param #   \n",
            "=================================================================\n",
            "dense_1 (Dense)              (None, 10)                140       \n",
            "=================================================================\n",
            "Total params: 140\n",
            "Trainable params: 140\n",
            "Non-trainable params: 0\n",
            "_________________________________________________________________\n"
          ],
          "name": "stdout"
        }
      ]
    },
    {
      "cell_type": "code",
      "metadata": {
        "id": "0FqD5QF0F35t",
        "colab_type": "code",
        "colab": {
          "base_uri": "https://localhost:8080/",
          "height": 225
        },
        "outputId": "193a2cd1-cdae-4acb-ac90-4f4dd8c0b796"
      },
      "source": [
        "#tensorboard graph genertion\n",
        "tensorboard = TensorBoard(log_dir=\"logslo1/{}\",histogram_freq=0, write_graph=True, write_images=True)\n",
        "history=model.fit(X_train, Y_Train, nb_epoch=nb_epoch, batch_size=batch_size,callbacks=[tensorboard])"
      ],
      "execution_count": 11,
      "outputs": [
        {
          "output_type": "stream",
          "text": [
            "/usr/local/lib/python3.6/dist-packages/ipykernel_launcher.py:2: UserWarning: The `nb_epoch` argument in `fit` has been renamed `epochs`.\n",
            "  \n"
          ],
          "name": "stderr"
        },
        {
          "output_type": "stream",
          "text": [
            "Epoch 1/5\n",
            "227/227 [==============================] - 0s 1ms/step - loss: 2.3182 - accuracy: 0.0000e+00\n",
            "Epoch 2/5\n",
            "227/227 [==============================] - 0s 28us/step - loss: 2.2975 - accuracy: 0.0000e+00\n",
            "Epoch 3/5\n",
            "227/227 [==============================] - 0s 40us/step - loss: 2.2771 - accuracy: 0.0000e+00\n",
            "Epoch 4/5\n",
            "227/227 [==============================] - 0s 23us/step - loss: 2.2568 - accuracy: 0.0000e+00\n",
            "Epoch 5/5\n",
            "227/227 [==============================] - 0s 18us/step - loss: 2.2368 - accuracy: 0.0132\n"
          ],
          "name": "stdout"
        }
      ]
    },
    {
      "cell_type": "code",
      "metadata": {
        "id": "DwdmcO4HF7Pl",
        "colab_type": "code",
        "colab": {
          "base_uri": "https://localhost:8080/",
          "height": 51
        },
        "outputId": "f9248a32-3a54-47a6-98ec-9ecd675b31ab"
      },
      "source": [
        "#predicting the accuracy of the model\n",
        "score = model.evaluate(X_test, Y_Test, verbose=1)\n",
        "print('Loss: %.2f, Accuracy: %.2f' % (score[0], score[1]))"
      ],
      "execution_count": 12,
      "outputs": [
        {
          "output_type": "stream",
          "text": [
            "76/76 [==============================] - 0s 221us/step\n",
            "Loss: 2.22, Accuracy: 0.16\n"
          ],
          "name": "stdout"
        }
      ]
    },
    {
      "cell_type": "code",
      "metadata": {
        "id": "CjYOU_lwF__C",
        "colab_type": "code",
        "colab": {
          "base_uri": "https://localhost:8080/",
          "height": 295
        },
        "outputId": "1ec8af31-9607-4565-cb76-653e514d5cb6"
      },
      "source": [
        "#plotting the loss\n",
        "plt.plot(history.history['loss'])\n",
        "# plt.plot(history.history['test_loss'])\n",
        "plt.title('model loss')\n",
        "plt.ylabel('loss')\n",
        "plt.xlabel('epoch')\n",
        "plt.legend(['train', 'test'], loc='upper left')\n",
        "plt.show()"
      ],
      "execution_count": 13,
      "outputs": [
        {
          "output_type": "display_data",
          "data": {
            "image/png": "[encoded data removed]",
            "text/plain": [
              "<Figure size 432x288 with 1 Axes>"
            ]
          },
          "metadata": {
            "tags": [],
            "needs_background": "light"
          }
        }
      ]
    }
  ]
}